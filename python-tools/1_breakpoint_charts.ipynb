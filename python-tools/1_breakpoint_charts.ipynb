{
 "cells": [
  {
   "cell_type": "code",
   "execution_count": null,
   "metadata": {},
   "outputs": [
    {
     "name": "stdout",
     "output_type": "stream",
     "text": [
      "The autoreload extension is already loaded. To reload it, use:\n",
      "  %reload_ext autoreload\n"
     ]
    }
   ],
   "source": [
    "\n",
    "%load_ext autoreload\n",
    "%autoreload 2\n",
    "import common.utils as utils\n",
    "import common.analysis as analysis\n",
    "import common.charts.breakpoint as charts\n",
    "import seaborn as sns\n",
    "import os\n",
    "import common.lazy as lazy\n",
    "sns.set_theme()"
   ]
  },
  {
   "cell_type": "code",
   "execution_count": 23,
   "metadata": {},
   "outputs": [],
   "source": [
    "functionName = \"go-factorial-breakpoint\"\n",
    "definition = utils.getBenchmarkDefinition(functionName)\n",
    "definition[\"name\"] = f\"{functionName}-1\""
   ]
  },
  {
   "cell_type": "code",
   "execution_count": 24,
   "metadata": {},
   "outputs": [],
   "source": [
    "httpReqSending = lazy.getHttpReqSending(definition[\"name\"], \"1\")\n",
    "httpStats = lazy.getHttRequestStats(definition[\"name\"], \"1\")\n",
    "httpStats = analysis.withLoadGrouping(httpStats)\n",
    "resourceStats = lazy.getResourceMetrics(definition[\"name\"], \"1\")"
   ]
  },
  {
   "cell_type": "code",
   "execution_count": 25,
   "metadata": {},
   "outputs": [
    {
     "data": {
      "text/plain": [
       "array(['cpuPerCore', 'cpuTotal', 'memoryUsagePercent', 'memoryUsage',\n",
       "       'readKbPerSecond', 'writeKbPerSecond', 'networkInKbPerSecond',\n",
       "       'networkOutKbPerSecond', 'cpuPerContainer',\n",
       "       'totalCpuUsageContainers', 'memoryPerContainer',\n",
       "       'totalMemoryUsageContainers', 'sentNetworkPerContainer',\n",
       "       'receivedNetworkPerContainer'], dtype=object)"
      ]
     },
     "execution_count": 25,
     "metadata": {},
     "output_type": "execute_result"
    }
   ],
   "source": [
    "resourceStats[\"metric_name\"].unique()"
   ]
  },
  {
   "cell_type": "code",
   "execution_count": 26,
   "metadata": {},
   "outputs": [
    {
     "data": {
      "text/html": [
       "<div>\n",
       "<style scoped>\n",
       "    .dataframe tbody tr th:only-of-type {\n",
       "        vertical-align: middle;\n",
       "    }\n",
       "\n",
       "    .dataframe tbody tr th {\n",
       "        vertical-align: top;\n",
       "    }\n",
       "\n",
       "    .dataframe thead th {\n",
       "        text-align: right;\n",
       "    }\n",
       "</style>\n",
       "<table border=\"1\" class=\"dataframe\">\n",
       "  <thead>\n",
       "    <tr style=\"text-align: right;\">\n",
       "      <th></th>\n",
       "      <th>time</th>\n",
       "      <th>value</th>\n",
       "      <th>metric_name</th>\n",
       "      <th>metric</th>\n",
       "      <th>testName</th>\n",
       "      <th>replicas</th>\n",
       "      <th>id</th>\n",
       "    </tr>\n",
       "  </thead>\n",
       "  <tbody>\n",
       "    <tr>\n",
       "      <th>0</th>\n",
       "      <td>2025-03-01 17:24:18.436000+00:00</td>\n",
       "      <td>2.740853e+05</td>\n",
       "      <td>memoryPerContainer</td>\n",
       "      <td>{'name': 'memoryPerContainer', 'id': 'go-strin...</td>\n",
       "      <td>1</td>\n",
       "      <td>1</td>\n",
       "      <td>go-string-reversal_0</td>\n",
       "    </tr>\n",
       "    <tr>\n",
       "      <th>1</th>\n",
       "      <td>2025-03-01 17:24:23.436000+00:00</td>\n",
       "      <td>0.000000e+00</td>\n",
       "      <td>memoryPerContainer</td>\n",
       "      <td>{'name': 'memoryPerContainer', 'id': 'go-strin...</td>\n",
       "      <td>1</td>\n",
       "      <td>1</td>\n",
       "      <td>go-string-reversal_0</td>\n",
       "    </tr>\n",
       "    <tr>\n",
       "      <th>2</th>\n",
       "      <td>2025-03-01 17:24:28.436000+00:00</td>\n",
       "      <td>1.116689e+05</td>\n",
       "      <td>memoryPerContainer</td>\n",
       "      <td>{'name': 'memoryPerContainer', 'id': 'go-strin...</td>\n",
       "      <td>1</td>\n",
       "      <td>1</td>\n",
       "      <td>go-string-reversal_0</td>\n",
       "    </tr>\n",
       "    <tr>\n",
       "      <th>3</th>\n",
       "      <td>2025-03-01 17:24:33.436000+00:00</td>\n",
       "      <td>1.990671e+06</td>\n",
       "      <td>memoryPerContainer</td>\n",
       "      <td>{'name': 'memoryPerContainer', 'id': 'go-strin...</td>\n",
       "      <td>1</td>\n",
       "      <td>1</td>\n",
       "      <td>go-string-reversal_0</td>\n",
       "    </tr>\n",
       "    <tr>\n",
       "      <th>4</th>\n",
       "      <td>2025-03-01 17:24:38.436000+00:00</td>\n",
       "      <td>3.567004e+06</td>\n",
       "      <td>memoryPerContainer</td>\n",
       "      <td>{'name': 'memoryPerContainer', 'id': 'go-strin...</td>\n",
       "      <td>1</td>\n",
       "      <td>1</td>\n",
       "      <td>go-string-reversal_0</td>\n",
       "    </tr>\n",
       "  </tbody>\n",
       "</table>\n",
       "</div>"
      ],
      "text/plain": [
       "                              time         value         metric_name  \\\n",
       "0 2025-03-01 17:24:18.436000+00:00  2.740853e+05  memoryPerContainer   \n",
       "1 2025-03-01 17:24:23.436000+00:00  0.000000e+00  memoryPerContainer   \n",
       "2 2025-03-01 17:24:28.436000+00:00  1.116689e+05  memoryPerContainer   \n",
       "3 2025-03-01 17:24:33.436000+00:00  1.990671e+06  memoryPerContainer   \n",
       "4 2025-03-01 17:24:38.436000+00:00  3.567004e+06  memoryPerContainer   \n",
       "\n",
       "                                              metric testName  replicas  \\\n",
       "0  {'name': 'memoryPerContainer', 'id': 'go-strin...        1         1   \n",
       "1  {'name': 'memoryPerContainer', 'id': 'go-strin...        1         1   \n",
       "2  {'name': 'memoryPerContainer', 'id': 'go-strin...        1         1   \n",
       "3  {'name': 'memoryPerContainer', 'id': 'go-strin...        1         1   \n",
       "4  {'name': 'memoryPerContainer', 'id': 'go-strin...        1         1   \n",
       "\n",
       "                     id  \n",
       "0  go-string-reversal_0  \n",
       "1  go-string-reversal_0  \n",
       "2  go-string-reversal_0  \n",
       "3  go-string-reversal_0  \n",
       "4  go-string-reversal_0  "
      ]
     },
     "execution_count": 26,
     "metadata": {},
     "output_type": "execute_result"
    }
   ],
   "source": [
    "resourceStats.query(\"metric_name == 'memoryPerContainer'\").head()"
   ]
  },
  {
   "cell_type": "code",
   "execution_count": 27,
   "metadata": {},
   "outputs": [
    {
     "ename": "AttributeError",
     "evalue": "module 'common.charts.validation' has no attribute 'responseTimeChart'",
     "output_type": "error",
     "traceback": [
      "\u001b[0;31m---------------------------------------------------------------------------\u001b[0m",
      "\u001b[0;31mAttributeError\u001b[0m                            Traceback (most recent call last)",
      "Cell \u001b[0;32mIn[27], line 1\u001b[0m\n\u001b[0;32m----> 1\u001b[0m fig, axes \u001b[38;5;241m=\u001b[39m\u001b[43mcharts\u001b[49m\u001b[38;5;241;43m.\u001b[39;49m\u001b[43mresponseTimeChart\u001b[49m(httpStats, resourceStats, httpReqSending)\n",
      "\u001b[0;31mAttributeError\u001b[0m: module 'common.charts.validation' has no attribute 'responseTimeChart'"
     ]
    }
   ],
   "source": [
    "fig, axes =charts.responseTimeChart(httpStats, resourceStats, httpReqSending)"
   ]
  }
 ],
 "metadata": {
  "kernelspec": {
   "display_name": ".venv",
   "language": "python",
   "name": "python3"
  },
  "language_info": {
   "codemirror_mode": {
    "name": "ipython",
    "version": 3
   },
   "file_extension": ".py",
   "mimetype": "text/x-python",
   "name": "python",
   "nbconvert_exporter": "python",
   "pygments_lexer": "ipython3",
   "version": "3.10.12"
  }
 },
 "nbformat": 4,
 "nbformat_minor": 2
}
